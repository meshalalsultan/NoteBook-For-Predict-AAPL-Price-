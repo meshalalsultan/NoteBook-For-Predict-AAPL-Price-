{
  "nbformat": 4,
  "nbformat_minor": 0,
  "metadata": {
    "colab": {
      "name": "Predict APPL Price.ipynb",
      "provenance": []
    },
    "kernelspec": {
      "name": "python3",
      "display_name": "Python 3"
    }
  },
  "cells": [
    {
      "cell_type": "code",
      "metadata": {
        "id": "eQyluEkreXqW",
        "colab_type": "code",
        "colab": {
          "base_uri": "https://localhost:8080/",
          "height": 88
        },
        "outputId": "3990a5a8-01db-41e5-bfbc-d1fd14753e2e"
      },
      "source": [
        "import math\n",
        "import pandas_datareader as web\n",
        "import numpy as np\n",
        "import pandas as pd\n",
        "from sklearn.preprocessing import MinMaxScaler\n",
        "from keras.models import Sequential\n",
        "from keras.layers import Dense, LSTM\n",
        "import matplotlib.pyplot as plt\n",
        "plt.style.use('fivethirtyeight')"
      ],
      "execution_count": 1,
      "outputs": [
        {
          "output_type": "stream",
          "text": [
            "/usr/local/lib/python3.6/dist-packages/pandas_datareader/compat/__init__.py:7: FutureWarning: pandas.util.testing is deprecated. Use the functions in the public API at pandas.testing instead.\n",
            "  from pandas.util.testing import assert_frame_equal\n",
            "Using TensorFlow backend.\n"
          ],
          "name": "stderr"
        }
      ]
    },
    {
      "cell_type": "code",
      "metadata": {
        "id": "M-f4wnt7ebt_",
        "colab_type": "code",
        "colab": {}
      },
      "source": [
        "#Get the stock quote\n",
        "df = web.DataReader('AAPL', data_source='yahoo', start='2012-01-01', end='2020-05-01')"
      ],
      "execution_count": 0,
      "outputs": []
    },
    {
      "cell_type": "code",
      "metadata": {
        "id": "oDoLeU4eekq0",
        "colab_type": "code",
        "colab": {
          "base_uri": "https://localhost:8080/",
          "height": 450
        },
        "outputId": "532a53f0-7f44-417a-8669-91d653b55faa"
      },
      "source": [
        "df"
      ],
      "execution_count": 3,
      "outputs": [
        {
          "output_type": "execute_result",
          "data": {
            "text/html": [
              "<div>\n",
              "<style scoped>\n",
              "    .dataframe tbody tr th:only-of-type {\n",
              "        vertical-align: middle;\n",
              "    }\n",
              "\n",
              "    .dataframe tbody tr th {\n",
              "        vertical-align: top;\n",
              "    }\n",
              "\n",
              "    .dataframe thead th {\n",
              "        text-align: right;\n",
              "    }\n",
              "</style>\n",
              "<table border=\"1\" class=\"dataframe\">\n",
              "  <thead>\n",
              "    <tr style=\"text-align: right;\">\n",
              "      <th></th>\n",
              "      <th>High</th>\n",
              "      <th>Low</th>\n",
              "      <th>Open</th>\n",
              "      <th>Close</th>\n",
              "      <th>Volume</th>\n",
              "      <th>Adj Close</th>\n",
              "    </tr>\n",
              "    <tr>\n",
              "      <th>Date</th>\n",
              "      <th></th>\n",
              "      <th></th>\n",
              "      <th></th>\n",
              "      <th></th>\n",
              "      <th></th>\n",
              "      <th></th>\n",
              "    </tr>\n",
              "  </thead>\n",
              "  <tbody>\n",
              "    <tr>\n",
              "      <th>2012-01-03</th>\n",
              "      <td>58.928570</td>\n",
              "      <td>58.428570</td>\n",
              "      <td>58.485714</td>\n",
              "      <td>58.747143</td>\n",
              "      <td>75555200.0</td>\n",
              "      <td>50.857235</td>\n",
              "    </tr>\n",
              "    <tr>\n",
              "      <th>2012-01-04</th>\n",
              "      <td>59.240002</td>\n",
              "      <td>58.468571</td>\n",
              "      <td>58.571430</td>\n",
              "      <td>59.062859</td>\n",
              "      <td>65005500.0</td>\n",
              "      <td>51.130558</td>\n",
              "    </tr>\n",
              "    <tr>\n",
              "      <th>2012-01-05</th>\n",
              "      <td>59.792858</td>\n",
              "      <td>58.952858</td>\n",
              "      <td>59.278572</td>\n",
              "      <td>59.718571</td>\n",
              "      <td>67817400.0</td>\n",
              "      <td>51.698215</td>\n",
              "    </tr>\n",
              "    <tr>\n",
              "      <th>2012-01-06</th>\n",
              "      <td>60.392857</td>\n",
              "      <td>59.888573</td>\n",
              "      <td>59.967144</td>\n",
              "      <td>60.342857</td>\n",
              "      <td>79573200.0</td>\n",
              "      <td>52.238651</td>\n",
              "    </tr>\n",
              "    <tr>\n",
              "      <th>2012-01-09</th>\n",
              "      <td>61.107143</td>\n",
              "      <td>60.192856</td>\n",
              "      <td>60.785713</td>\n",
              "      <td>60.247143</td>\n",
              "      <td>98506100.0</td>\n",
              "      <td>52.155792</td>\n",
              "    </tr>\n",
              "    <tr>\n",
              "      <th>...</th>\n",
              "      <td>...</td>\n",
              "      <td>...</td>\n",
              "      <td>...</td>\n",
              "      <td>...</td>\n",
              "      <td>...</td>\n",
              "      <td>...</td>\n",
              "    </tr>\n",
              "    <tr>\n",
              "      <th>2020-04-27</th>\n",
              "      <td>284.540009</td>\n",
              "      <td>279.950012</td>\n",
              "      <td>281.799988</td>\n",
              "      <td>283.170013</td>\n",
              "      <td>29271900.0</td>\n",
              "      <td>282.405548</td>\n",
              "    </tr>\n",
              "    <tr>\n",
              "      <th>2020-04-28</th>\n",
              "      <td>285.829987</td>\n",
              "      <td>278.200012</td>\n",
              "      <td>285.079987</td>\n",
              "      <td>278.579987</td>\n",
              "      <td>28001200.0</td>\n",
              "      <td>277.827911</td>\n",
              "    </tr>\n",
              "    <tr>\n",
              "      <th>2020-04-29</th>\n",
              "      <td>289.670013</td>\n",
              "      <td>283.890015</td>\n",
              "      <td>284.730011</td>\n",
              "      <td>287.730011</td>\n",
              "      <td>34320200.0</td>\n",
              "      <td>286.953247</td>\n",
              "    </tr>\n",
              "    <tr>\n",
              "      <th>2020-04-30</th>\n",
              "      <td>294.529999</td>\n",
              "      <td>288.350006</td>\n",
              "      <td>289.959991</td>\n",
              "      <td>293.799988</td>\n",
              "      <td>45766000.0</td>\n",
              "      <td>293.006836</td>\n",
              "    </tr>\n",
              "    <tr>\n",
              "      <th>2020-05-01</th>\n",
              "      <td>299.000000</td>\n",
              "      <td>285.850006</td>\n",
              "      <td>286.250000</td>\n",
              "      <td>289.070007</td>\n",
              "      <td>60154200.0</td>\n",
              "      <td>288.289612</td>\n",
              "    </tr>\n",
              "  </tbody>\n",
              "</table>\n",
              "<p>2096 rows × 6 columns</p>\n",
              "</div>"
            ],
            "text/plain": [
              "                  High         Low  ...      Volume   Adj Close\n",
              "Date                                ...                        \n",
              "2012-01-03   58.928570   58.428570  ...  75555200.0   50.857235\n",
              "2012-01-04   59.240002   58.468571  ...  65005500.0   51.130558\n",
              "2012-01-05   59.792858   58.952858  ...  67817400.0   51.698215\n",
              "2012-01-06   60.392857   59.888573  ...  79573200.0   52.238651\n",
              "2012-01-09   61.107143   60.192856  ...  98506100.0   52.155792\n",
              "...                ...         ...  ...         ...         ...\n",
              "2020-04-27  284.540009  279.950012  ...  29271900.0  282.405548\n",
              "2020-04-28  285.829987  278.200012  ...  28001200.0  277.827911\n",
              "2020-04-29  289.670013  283.890015  ...  34320200.0  286.953247\n",
              "2020-04-30  294.529999  288.350006  ...  45766000.0  293.006836\n",
              "2020-05-01  299.000000  285.850006  ...  60154200.0  288.289612\n",
              "\n",
              "[2096 rows x 6 columns]"
            ]
          },
          "metadata": {
            "tags": []
          },
          "execution_count": 3
        }
      ]
    },
    {
      "cell_type": "code",
      "metadata": {
        "id": "Ctp6lJPneoUG",
        "colab_type": "code",
        "colab": {
          "base_uri": "https://localhost:8080/",
          "height": 272
        },
        "outputId": "ee42b090-52a4-45d4-cc00-a9a66dd8b9cc"
      },
      "source": [
        "df.to_csv"
      ],
      "execution_count": 4,
      "outputs": [
        {
          "output_type": "execute_result",
          "data": {
            "text/plain": [
              "<bound method NDFrame.to_csv of                   High         Low  ...      Volume   Adj Close\n",
              "Date                                ...                        \n",
              "2012-01-03   58.928570   58.428570  ...  75555200.0   50.857235\n",
              "2012-01-04   59.240002   58.468571  ...  65005500.0   51.130558\n",
              "2012-01-05   59.792858   58.952858  ...  67817400.0   51.698215\n",
              "2012-01-06   60.392857   59.888573  ...  79573200.0   52.238651\n",
              "2012-01-09   61.107143   60.192856  ...  98506100.0   52.155792\n",
              "...                ...         ...  ...         ...         ...\n",
              "2020-04-27  284.540009  279.950012  ...  29271900.0  282.405548\n",
              "2020-04-28  285.829987  278.200012  ...  28001200.0  277.827911\n",
              "2020-04-29  289.670013  283.890015  ...  34320200.0  286.953247\n",
              "2020-04-30  294.529999  288.350006  ...  45766000.0  293.006836\n",
              "2020-05-01  299.000000  285.850006  ...  60154200.0  288.289612\n",
              "\n",
              "[2096 rows x 6 columns]>"
            ]
          },
          "metadata": {
            "tags": []
          },
          "execution_count": 4
        }
      ]
    },
    {
      "cell_type": "code",
      "metadata": {
        "id": "Gxyy9mPZerRF",
        "colab_type": "code",
        "colab": {
          "base_uri": "https://localhost:8080/",
          "height": 235
        },
        "outputId": "0b5659f8-694a-4514-9484-457a65e0a4b0"
      },
      "source": [
        "df.head()"
      ],
      "execution_count": 5,
      "outputs": [
        {
          "output_type": "execute_result",
          "data": {
            "text/html": [
              "<div>\n",
              "<style scoped>\n",
              "    .dataframe tbody tr th:only-of-type {\n",
              "        vertical-align: middle;\n",
              "    }\n",
              "\n",
              "    .dataframe tbody tr th {\n",
              "        vertical-align: top;\n",
              "    }\n",
              "\n",
              "    .dataframe thead th {\n",
              "        text-align: right;\n",
              "    }\n",
              "</style>\n",
              "<table border=\"1\" class=\"dataframe\">\n",
              "  <thead>\n",
              "    <tr style=\"text-align: right;\">\n",
              "      <th></th>\n",
              "      <th>High</th>\n",
              "      <th>Low</th>\n",
              "      <th>Open</th>\n",
              "      <th>Close</th>\n",
              "      <th>Volume</th>\n",
              "      <th>Adj Close</th>\n",
              "    </tr>\n",
              "    <tr>\n",
              "      <th>Date</th>\n",
              "      <th></th>\n",
              "      <th></th>\n",
              "      <th></th>\n",
              "      <th></th>\n",
              "      <th></th>\n",
              "      <th></th>\n",
              "    </tr>\n",
              "  </thead>\n",
              "  <tbody>\n",
              "    <tr>\n",
              "      <th>2012-01-03</th>\n",
              "      <td>58.928570</td>\n",
              "      <td>58.428570</td>\n",
              "      <td>58.485714</td>\n",
              "      <td>58.747143</td>\n",
              "      <td>75555200.0</td>\n",
              "      <td>50.857235</td>\n",
              "    </tr>\n",
              "    <tr>\n",
              "      <th>2012-01-04</th>\n",
              "      <td>59.240002</td>\n",
              "      <td>58.468571</td>\n",
              "      <td>58.571430</td>\n",
              "      <td>59.062859</td>\n",
              "      <td>65005500.0</td>\n",
              "      <td>51.130558</td>\n",
              "    </tr>\n",
              "    <tr>\n",
              "      <th>2012-01-05</th>\n",
              "      <td>59.792858</td>\n",
              "      <td>58.952858</td>\n",
              "      <td>59.278572</td>\n",
              "      <td>59.718571</td>\n",
              "      <td>67817400.0</td>\n",
              "      <td>51.698215</td>\n",
              "    </tr>\n",
              "    <tr>\n",
              "      <th>2012-01-06</th>\n",
              "      <td>60.392857</td>\n",
              "      <td>59.888573</td>\n",
              "      <td>59.967144</td>\n",
              "      <td>60.342857</td>\n",
              "      <td>79573200.0</td>\n",
              "      <td>52.238651</td>\n",
              "    </tr>\n",
              "    <tr>\n",
              "      <th>2012-01-09</th>\n",
              "      <td>61.107143</td>\n",
              "      <td>60.192856</td>\n",
              "      <td>60.785713</td>\n",
              "      <td>60.247143</td>\n",
              "      <td>98506100.0</td>\n",
              "      <td>52.155792</td>\n",
              "    </tr>\n",
              "  </tbody>\n",
              "</table>\n",
              "</div>"
            ],
            "text/plain": [
              "                 High        Low       Open      Close      Volume  Adj Close\n",
              "Date                                                                         \n",
              "2012-01-03  58.928570  58.428570  58.485714  58.747143  75555200.0  50.857235\n",
              "2012-01-04  59.240002  58.468571  58.571430  59.062859  65005500.0  51.130558\n",
              "2012-01-05  59.792858  58.952858  59.278572  59.718571  67817400.0  51.698215\n",
              "2012-01-06  60.392857  59.888573  59.967144  60.342857  79573200.0  52.238651\n",
              "2012-01-09  61.107143  60.192856  60.785713  60.247143  98506100.0  52.155792"
            ]
          },
          "metadata": {
            "tags": []
          },
          "execution_count": 5
        }
      ]
    },
    {
      "cell_type": "code",
      "metadata": {
        "id": "KGCAEE5YevMn",
        "colab_type": "code",
        "colab": {
          "base_uri": "https://localhost:8080/",
          "height": 518
        },
        "outputId": "dbb3ad03-5769-406f-84d9-d325cb52077b"
      },
      "source": [
        "#Visualize the closing price history\n",
        "plt.figure(figsize=(16,8))\n",
        "plt.title('Close Price History')\n",
        "plt.plot(df['Close'])\n",
        "plt.xlabel('Date', fontsize=18)\n",
        "plt.ylabel('Close Price USD ($)', fontsize=18)\n",
        "plt.show()"
      ],
      "execution_count": 6,
      "outputs": [
        {
          "output_type": "display_data",
          "data": {
            "image/png": "[encoded data removed]",
            "text/plain": [
              "<Figure size 1152x576 with 1 Axes>"
            ]
          },
          "metadata": {
            "tags": [],
            "needs_background": "light"
          }
        }
      ]
    },
    {
      "cell_type": "code",
      "metadata": {
        "id": "OQ6lSCJxezjN",
        "colab_type": "code",
        "colab": {}
      },
      "source": [
        "#Create a new dataframe with only the 'Close column\n",
        "data = df.filter(['Close'])"
      ],
      "execution_count": 0,
      "outputs": []
    },
    {
      "cell_type": "code",
      "metadata": {
        "id": "xSg5jccoe5rn",
        "colab_type": "code",
        "colab": {}
      },
      "source": [
        "\n",
        "#Convert the dataframe to a numpy array\n",
        "dataset = data.values"
      ],
      "execution_count": 0,
      "outputs": []
    },
    {
      "cell_type": "code",
      "metadata": {
        "id": "gQiDYbqye71W",
        "colab_type": "code",
        "colab": {
          "base_uri": "https://localhost:8080/",
          "height": 34
        },
        "outputId": "ae3a7e12-f48a-45b2-b3e2-4383585398a7"
      },
      "source": [
        "#Get the number of rows to train the model on\n",
        "training_data_len = math.ceil( len(dataset) * .8 )\n",
        "\n",
        "training_data_len"
      ],
      "execution_count": 9,
      "outputs": [
        {
          "output_type": "execute_result",
          "data": {
            "text/plain": [
              "1677"
            ]
          },
          "metadata": {
            "tags": []
          },
          "execution_count": 9
        }
      ]
    },
    {
      "cell_type": "code",
      "metadata": {
        "id": "KZgBjb4fe_Zh",
        "colab_type": "code",
        "colab": {
          "base_uri": "https://localhost:8080/",
          "height": 136
        },
        "outputId": "4a5f4628-65c4-4e22-c377-697499e08d3f"
      },
      "source": [
        "#Scale the data\n",
        "scaler = MinMaxScaler(feature_range=(0,1))\n",
        "scaled_data = scaler.fit_transform(dataset)\n",
        "scaled_data"
      ],
      "execution_count": 10,
      "outputs": [
        {
          "output_type": "execute_result",
          "data": {
            "text/plain": [
              "array([[0.01089548],\n",
              "       [0.01205872],\n",
              "       [0.01447467],\n",
              "       ...,\n",
              "       [0.85457426],\n",
              "       [0.87693886],\n",
              "       [0.85951143]])"
            ]
          },
          "metadata": {
            "tags": []
          },
          "execution_count": 10
        }
      ]
    },
    {
      "cell_type": "code",
      "metadata": {
        "id": "QmL00PdTfBwm",
        "colab_type": "code",
        "colab": {}
      },
      "source": [
        "#Create the scaled training data set\n",
        "train_data = scaled_data[0:training_data_len , :]"
      ],
      "execution_count": 0,
      "outputs": []
    },
    {
      "cell_type": "markdown",
      "metadata": {
        "id": "v9m-UGzXfMYo",
        "colab_type": "text"
      },
      "source": [
        "**Create the training data set**"
      ]
    },
    {
      "cell_type": "code",
      "metadata": {
        "id": "jtSzA9PsfICX",
        "colab_type": "code",
        "colab": {
          "base_uri": "https://localhost:8080/",
          "height": 680
        },
        "outputId": "48143806-a6d7-474e-a443-a5d61a53df05"
      },
      "source": [
        "#Split the data into x_train and y_train data sets\n",
        "x_train = []\n",
        "y_train = []\n",
        "\n",
        "for i in range(60, len(train_data)):\n",
        "  x_train.append(train_data[i-60:i, 0])\n",
        "  y_train.append(train_data[i, 0])\n",
        "  if i<= 61:\n",
        "    print(x_train)\n",
        "    print(y_train)\n",
        "    print()"
      ],
      "execution_count": 12,
      "outputs": [
        {
          "output_type": "stream",
          "text": [
            "[array([0.01089548, 0.01205872, 0.01447467, 0.01677483, 0.01642217,\n",
            "       0.01721696, 0.01685378, 0.01624321, 0.01541158, 0.01798544,\n",
            "       0.02030665, 0.01959081, 0.01566949, 0.01941185, 0.01572739,\n",
            "       0.02954412, 0.02847562, 0.02987047, 0.03288645, 0.03471289,\n",
            "       0.03456025, 0.03399706, 0.03639722, 0.03865526, 0.04121335,\n",
            "       0.04534521, 0.05402475, 0.05415633, 0.05898825, 0.06259901,\n",
            "       0.05639331, 0.05878296, 0.0587356 , 0.06543606, 0.06448335,\n",
            "       0.06624662, 0.06941526, 0.07117856, 0.07625785, 0.07995811,\n",
            "       0.08102658, 0.0814003 , 0.07507357, 0.07354712, 0.07377347,\n",
            "       0.07972122, 0.08139505, 0.08499001, 0.09346428, 0.10477032,\n",
            "       0.10265438, 0.10265964, 0.11083389, 0.11339195, 0.11157078,\n",
            "       0.10990752, 0.10817582, 0.11392883, 0.11787649, 0.11952923])]\n",
            "[0.11544472908538655]\n",
            "\n",
            "[array([0.01089548, 0.01205872, 0.01447467, 0.01677483, 0.01642217,\n",
            "       0.01721696, 0.01685378, 0.01624321, 0.01541158, 0.01798544,\n",
            "       0.02030665, 0.01959081, 0.01566949, 0.01941185, 0.01572739,\n",
            "       0.02954412, 0.02847562, 0.02987047, 0.03288645, 0.03471289,\n",
            "       0.03456025, 0.03399706, 0.03639722, 0.03865526, 0.04121335,\n",
            "       0.04534521, 0.05402475, 0.05415633, 0.05898825, 0.06259901,\n",
            "       0.05639331, 0.05878296, 0.0587356 , 0.06543606, 0.06448335,\n",
            "       0.06624662, 0.06941526, 0.07117856, 0.07625785, 0.07995811,\n",
            "       0.08102658, 0.0814003 , 0.07507357, 0.07354712, 0.07377347,\n",
            "       0.07972122, 0.08139505, 0.08499001, 0.09346428, 0.10477032,\n",
            "       0.10265438, 0.10265964, 0.11083389, 0.11339195, 0.11157078,\n",
            "       0.10990752, 0.10817582, 0.11392883, 0.11787649, 0.11952923]), array([0.01205872, 0.01447467, 0.01677483, 0.01642217, 0.01721696,\n",
            "       0.01685378, 0.01624321, 0.01541158, 0.01798544, 0.02030665,\n",
            "       0.01959081, 0.01566949, 0.01941185, 0.01572739, 0.02954412,\n",
            "       0.02847562, 0.02987047, 0.03288645, 0.03471289, 0.03456025,\n",
            "       0.03399706, 0.03639722, 0.03865526, 0.04121335, 0.04534521,\n",
            "       0.05402475, 0.05415633, 0.05898825, 0.06259901, 0.05639331,\n",
            "       0.05878296, 0.0587356 , 0.06543606, 0.06448335, 0.06624662,\n",
            "       0.06941526, 0.07117856, 0.07625785, 0.07995811, 0.08102658,\n",
            "       0.0814003 , 0.07507357, 0.07354712, 0.07377347, 0.07972122,\n",
            "       0.08139505, 0.08499001, 0.09346428, 0.10477032, 0.10265438,\n",
            "       0.10265964, 0.11083389, 0.11339195, 0.11157078, 0.10990752,\n",
            "       0.10817582, 0.11392883, 0.11787649, 0.11952923, 0.11544473])]\n",
            "[0.11544472908538655, 0.11001805153856642]\n",
            "\n"
          ],
          "name": "stdout"
        }
      ]
    },
    {
      "cell_type": "code",
      "metadata": {
        "id": "QVzlyS1YfRIn",
        "colab_type": "code",
        "colab": {}
      },
      "source": [
        "#Convert the x_train and y_train to numpy arrays \n",
        "x_train, y_train = np.array(x_train), np.array(y_train)"
      ],
      "execution_count": 0,
      "outputs": []
    },
    {
      "cell_type": "code",
      "metadata": {
        "id": "LjBYzryTfUxf",
        "colab_type": "code",
        "colab": {
          "base_uri": "https://localhost:8080/",
          "height": 34
        },
        "outputId": "a0a5e8b1-08a3-443f-cae1-393764abfb18"
      },
      "source": [
        "#Reshape the data\n",
        "x_train = np.reshape(x_train, (x_train.shape[0], x_train.shape[1], 1))\n",
        "x_train.shape"
      ],
      "execution_count": 14,
      "outputs": [
        {
          "output_type": "execute_result",
          "data": {
            "text/plain": [
              "(1617, 60, 1)"
            ]
          },
          "metadata": {
            "tags": []
          },
          "execution_count": 14
        }
      ]
    },
    {
      "cell_type": "code",
      "metadata": {
        "id": "O_BvJRksfajq",
        "colab_type": "code",
        "colab": {}
      },
      "source": [
        "#Build the LSTM model\n",
        "model = Sequential()\n",
        "model.add(LSTM(50, return_sequences=True, input_shape= (x_train.shape[1], 1)))\n",
        "model.add(LSTM(50, return_sequences= False))\n",
        "model.add(Dense(25))\n",
        "model.add(Dense(1))"
      ],
      "execution_count": 0,
      "outputs": []
    },
    {
      "cell_type": "code",
      "metadata": {
        "id": "mf9xh4e1fc64",
        "colab_type": "code",
        "colab": {}
      },
      "source": [
        "#Compile the model\n",
        "model.compile(optimizer='adam', loss='mean_squared_error')"
      ],
      "execution_count": 0,
      "outputs": []
    },
    {
      "cell_type": "code",
      "metadata": {
        "id": "renNcnoQfheR",
        "colab_type": "code",
        "colab": {
          "base_uri": "https://localhost:8080/",
          "height": 272
        },
        "outputId": "51bc82ac-be22-4e16-e160-2fe27fb50df9"
      },
      "source": [
        "#Train the model\n",
        "model.fit(x_train, y_train, batch_size=1, epochs=7)"
      ],
      "execution_count": 77,
      "outputs": [
        {
          "output_type": "stream",
          "text": [
            "Epoch 1/7\n",
            "1617/1617 [==============================] - 56s 35ms/step - loss: 6.7749e-05\n",
            "Epoch 2/7\n",
            "1617/1617 [==============================] - 56s 35ms/step - loss: 7.6559e-05\n",
            "Epoch 3/7\n",
            "1617/1617 [==============================] - 56s 34ms/step - loss: 7.1082e-05\n",
            "Epoch 4/7\n",
            "1617/1617 [==============================] - 56s 34ms/step - loss: 7.0921e-05\n",
            "Epoch 5/7\n",
            "1617/1617 [==============================] - 56s 35ms/step - loss: 6.6307e-05\n",
            "Epoch 6/7\n",
            "1617/1617 [==============================] - 56s 35ms/step - loss: 6.9008e-05\n",
            "Epoch 7/7\n",
            "1617/1617 [==============================] - 56s 35ms/step - loss: 7.2763e-05\n"
          ],
          "name": "stdout"
        },
        {
          "output_type": "execute_result",
          "data": {
            "text/plain": [
              "<keras.callbacks.callbacks.History at 0x7f54e91e3908>"
            ]
          },
          "metadata": {
            "tags": []
          },
          "execution_count": 77
        }
      ]
    },
    {
      "cell_type": "markdown",
      "metadata": {
        "id": "hvYVqLpufpV4",
        "colab_type": "text"
      },
      "source": [
        "**Create the testing data set**"
      ]
    },
    {
      "cell_type": "code",
      "metadata": {
        "id": "nGSu41apfj1Z",
        "colab_type": "code",
        "colab": {}
      },
      "source": [
        "#Create a new array containing scaled values from index 1543 to 2002\n",
        "test_data = scaled_data[training_data_len - 60: , :]"
      ],
      "execution_count": 0,
      "outputs": []
    },
    {
      "cell_type": "code",
      "metadata": {
        "id": "r3Oyg9itfuPO",
        "colab_type": "code",
        "colab": {}
      },
      "source": [
        "#Create the data sets x_test and y_test\n",
        "x_test = []\n",
        "y_test = dataset[training_data_len:, :]\n",
        "for i in range(60, len(test_data)):\n",
        "  x_test.append(test_data[i-60:i, 0])"
      ],
      "execution_count": 0,
      "outputs": []
    },
    {
      "cell_type": "code",
      "metadata": {
        "id": "_NHXq_8kfw9D",
        "colab_type": "code",
        "colab": {}
      },
      "source": [
        "#Convert the data to a numpy array\n",
        "x_test = np.array(x_test)"
      ],
      "execution_count": 0,
      "outputs": []
    },
    {
      "cell_type": "code",
      "metadata": {
        "id": "mBtHJerQf0C6",
        "colab_type": "code",
        "colab": {}
      },
      "source": [
        "#Reshape the data\n",
        "x_test = np.reshape(x_test, (x_test.shape[0], x_test.shape[1], 1 ))"
      ],
      "execution_count": 0,
      "outputs": []
    },
    {
      "cell_type": "code",
      "metadata": {
        "id": "5B5Kl2MDf5w0",
        "colab_type": "code",
        "colab": {}
      },
      "source": [
        "#Get the models predicted price values \n",
        "predictions = model.predict(x_test)\n",
        "predictions = scaler.inverse_transform(predictions)"
      ],
      "execution_count": 0,
      "outputs": []
    },
    {
      "cell_type": "code",
      "metadata": {
        "id": "DmhmHP1Pf8qj",
        "colab_type": "code",
        "colab": {
          "base_uri": "https://localhost:8080/",
          "height": 34
        },
        "outputId": "face939d-76a9-44ab-ff22-ec510f7fa624"
      },
      "source": [
        "#Get the root mean squared error (RMSE)\n",
        "rmse = np.sqrt( np.mean( predictions - y_test )**2 )\n",
        "rmse"
      ],
      "execution_count": 74,
      "outputs": [
        {
          "output_type": "execute_result",
          "data": {
            "text/plain": [
              "2.632978889993381"
            ]
          },
          "metadata": {
            "tags": []
          },
          "execution_count": 74
        }
      ]
    },
    {
      "cell_type": "code",
      "metadata": {
        "id": "qXDYn7mSf_Wc",
        "colab_type": "code",
        "colab": {
          "base_uri": "https://localhost:8080/",
          "height": 119
        },
        "outputId": "c204c0a2-b97e-40a0-b6cd-d8b72c3dfee7"
      },
      "source": [
        "#Plot the data\n",
        "train = data[:training_data_len]\n",
        "valid = data[training_data_len:]\n",
        "valid['Predictions'] = predictions"
      ],
      "execution_count": 75,
      "outputs": [
        {
          "output_type": "stream",
          "text": [
            "/usr/local/lib/python3.6/dist-packages/ipykernel_launcher.py:3: SettingWithCopyWarning: \n",
            "A value is trying to be set on a copy of a slice from a DataFrame.\n",
            "Try using .loc[row_indexer,col_indexer] = value instead\n",
            "\n",
            "See the caveats in the documentation: https://pandas.pydata.org/pandas-docs/stable/user_guide/indexing.html#returning-a-view-versus-a-copy\n",
            "  This is separate from the ipykernel package so we can avoid doing imports until\n"
          ],
          "name": "stderr"
        }
      ]
    },
    {
      "cell_type": "code",
      "metadata": {
        "id": "if0I4amugCZz",
        "colab_type": "code",
        "colab": {
          "base_uri": "https://localhost:8080/",
          "height": 518
        },
        "outputId": "581d3aac-2973-4e45-8136-626e5047cf63"
      },
      "source": [
        "#Visualize the data\n",
        "plt.figure(figsize=(16,8))\n",
        "plt.title('Model')\n",
        "plt.xlabel('Date', fontsize=18)\n",
        "plt.ylabel('Close Price USD ($)', fontsize=18)\n",
        "plt.plot(train['Close'])\n",
        "plt.plot(valid[['Close', 'Predictions']])\n",
        "plt.legend(['Train', 'Val', 'Predictions'], loc='lower right')\n",
        "plt.show()"
      ],
      "execution_count": 76,
      "outputs": [
        {
          "output_type": "display_data",
          "data": {
            "image/png": "[encoded data removed]",
            "text/plain": [
              "<Figure size 1152x576 with 1 Axes>"
            ]
          },
          "metadata": {
            "tags": [],
            "needs_background": "light"
          }
        }
      ]
    },
    {
      "cell_type": "code",
      "metadata": {
        "id": "s77sn_Q1gFzr",
        "colab_type": "code",
        "colab": {
          "base_uri": "https://localhost:8080/",
          "height": 450
        },
        "outputId": "b463a796-6f85-4472-dab3-137ebf822c9c"
      },
      "source": [
        "#Show the valid and predicted prices\n",
        "valid"
      ],
      "execution_count": 47,
      "outputs": [
        {
          "output_type": "execute_result",
          "data": {
            "text/html": [
              "<div>\n",
              "<style scoped>\n",
              "    .dataframe tbody tr th:only-of-type {\n",
              "        vertical-align: middle;\n",
              "    }\n",
              "\n",
              "    .dataframe tbody tr th {\n",
              "        vertical-align: top;\n",
              "    }\n",
              "\n",
              "    .dataframe thead th {\n",
              "        text-align: right;\n",
              "    }\n",
              "</style>\n",
              "<table border=\"1\" class=\"dataframe\">\n",
              "  <thead>\n",
              "    <tr style=\"text-align: right;\">\n",
              "      <th></th>\n",
              "      <th>Close</th>\n",
              "      <th>Predictions</th>\n",
              "    </tr>\n",
              "    <tr>\n",
              "      <th>Date</th>\n",
              "      <th></th>\n",
              "      <th></th>\n",
              "    </tr>\n",
              "  </thead>\n",
              "  <tbody>\n",
              "    <tr>\n",
              "      <th>2018-08-31</th>\n",
              "      <td>227.630005</td>\n",
              "      <td>225.048965</td>\n",
              "    </tr>\n",
              "    <tr>\n",
              "      <th>2018-09-04</th>\n",
              "      <td>228.360001</td>\n",
              "      <td>227.739777</td>\n",
              "    </tr>\n",
              "    <tr>\n",
              "      <th>2018-09-05</th>\n",
              "      <td>226.869995</td>\n",
              "      <td>228.144287</td>\n",
              "    </tr>\n",
              "    <tr>\n",
              "      <th>2018-09-06</th>\n",
              "      <td>223.100006</td>\n",
              "      <td>226.483398</td>\n",
              "    </tr>\n",
              "    <tr>\n",
              "      <th>2018-09-07</th>\n",
              "      <td>221.300003</td>\n",
              "      <td>222.595062</td>\n",
              "    </tr>\n",
              "    <tr>\n",
              "      <th>...</th>\n",
              "      <td>...</td>\n",
              "      <td>...</td>\n",
              "    </tr>\n",
              "    <tr>\n",
              "      <th>2020-04-27</th>\n",
              "      <td>283.170013</td>\n",
              "      <td>281.316467</td>\n",
              "    </tr>\n",
              "    <tr>\n",
              "      <th>2020-04-28</th>\n",
              "      <td>278.579987</td>\n",
              "      <td>279.457367</td>\n",
              "    </tr>\n",
              "    <tr>\n",
              "      <th>2020-04-29</th>\n",
              "      <td>287.730011</td>\n",
              "      <td>274.926300</td>\n",
              "    </tr>\n",
              "    <tr>\n",
              "      <th>2020-04-30</th>\n",
              "      <td>293.799988</td>\n",
              "      <td>286.016022</td>\n",
              "    </tr>\n",
              "    <tr>\n",
              "      <th>2020-05-01</th>\n",
              "      <td>289.070007</td>\n",
              "      <td>290.168060</td>\n",
              "    </tr>\n",
              "  </tbody>\n",
              "</table>\n",
              "<p>419 rows × 2 columns</p>\n",
              "</div>"
            ],
            "text/plain": [
              "                 Close  Predictions\n",
              "Date                               \n",
              "2018-08-31  227.630005   225.048965\n",
              "2018-09-04  228.360001   227.739777\n",
              "2018-09-05  226.869995   228.144287\n",
              "2018-09-06  223.100006   226.483398\n",
              "2018-09-07  221.300003   222.595062\n",
              "...                ...          ...\n",
              "2020-04-27  283.170013   281.316467\n",
              "2020-04-28  278.579987   279.457367\n",
              "2020-04-29  287.730011   274.926300\n",
              "2020-04-30  293.799988   286.016022\n",
              "2020-05-01  289.070007   290.168060\n",
              "\n",
              "[419 rows x 2 columns]"
            ]
          },
          "metadata": {
            "tags": []
          },
          "execution_count": 47
        }
      ]
    },
    {
      "cell_type": "code",
      "metadata": {
        "id": "zZ7BC4KegKUU",
        "colab_type": "code",
        "colab": {}
      },
      "source": [
        "#Get the quote\n",
        "apple_quote = web.DataReader('AAPL', data_source='yahoo', start='2012-01-01', end='2020-05-10')"
      ],
      "execution_count": 0,
      "outputs": []
    },
    {
      "cell_type": "code",
      "metadata": {
        "id": "Bi-e43PXgg4b",
        "colab_type": "code",
        "colab": {}
      },
      "source": [
        "#Create a new dataframe\n",
        "new_df = apple_quote.filter(['Close'])"
      ],
      "execution_count": 0,
      "outputs": []
    },
    {
      "cell_type": "code",
      "metadata": {
        "id": "Bu_W6-UHgq5A",
        "colab_type": "code",
        "colab": {}
      },
      "source": [
        "#Get teh last 60 day closing price values and convert the dataframe to an array\n",
        "last_60_days = new_df[-60:].values"
      ],
      "execution_count": 0,
      "outputs": []
    },
    {
      "cell_type": "code",
      "metadata": {
        "id": "XKnkdiIHh_Nc",
        "colab_type": "code",
        "colab": {
          "base_uri": "https://localhost:8080/",
          "height": 1000
        },
        "outputId": "3e1183c9-0b85-4be8-bb60-7f45d4880d36"
      },
      "source": [
        "last_60_days"
      ],
      "execution_count": 51,
      "outputs": [
        {
          "output_type": "execute_result",
          "data": {
            "text/plain": [
              "array([[324.86999512],\n",
              "       [324.95001221],\n",
              "       [319.        ],\n",
              "       [323.61999512],\n",
              "       [320.29998779],\n",
              "       [313.04998779],\n",
              "       [298.17999268],\n",
              "       [288.07998657],\n",
              "       [292.6499939 ],\n",
              "       [273.51998901],\n",
              "       [273.35998535],\n",
              "       [298.80999756],\n",
              "       [289.32000732],\n",
              "       [302.73999023],\n",
              "       [292.92001343],\n",
              "       [289.02999878],\n",
              "       [266.17001343],\n",
              "       [285.33999634],\n",
              "       [275.42999268],\n",
              "       [248.22999573],\n",
              "       [277.97000122],\n",
              "       [242.21000671],\n",
              "       [252.86000061],\n",
              "       [246.66999817],\n",
              "       [244.77999878],\n",
              "       [229.24000549],\n",
              "       [224.36999512],\n",
              "       [246.88000488],\n",
              "       [245.52000427],\n",
              "       [258.44000244],\n",
              "       [247.74000549],\n",
              "       [254.80999756],\n",
              "       [254.28999329],\n",
              "       [240.91000366],\n",
              "       [244.92999268],\n",
              "       [241.41000366],\n",
              "       [262.47000122],\n",
              "       [259.42999268],\n",
              "       [266.07000732],\n",
              "       [267.98999023],\n",
              "       [273.25      ],\n",
              "       [287.04998779],\n",
              "       [284.42999268],\n",
              "       [286.69000244],\n",
              "       [282.79998779],\n",
              "       [276.92999268],\n",
              "       [268.36999512],\n",
              "       [276.1000061 ],\n",
              "       [275.02999878],\n",
              "       [282.97000122],\n",
              "       [283.17001343],\n",
              "       [278.57998657],\n",
              "       [287.73001099],\n",
              "       [293.79998779],\n",
              "       [289.07000732],\n",
              "       [293.16000366],\n",
              "       [297.55999756],\n",
              "       [300.63000488],\n",
              "       [303.73999023],\n",
              "       [310.13000488]])"
            ]
          },
          "metadata": {
            "tags": []
          },
          "execution_count": 51
        }
      ]
    },
    {
      "cell_type": "code",
      "metadata": {
        "id": "PAU2LIa4gth3",
        "colab_type": "code",
        "colab": {}
      },
      "source": [
        "#Scale the data to be values between 0 and 1\n",
        "last_60_days_scaled = scaler.transform(last_60_days)"
      ],
      "execution_count": 0,
      "outputs": []
    },
    {
      "cell_type": "code",
      "metadata": {
        "id": "EDzgy9NIgwAW",
        "colab_type": "code",
        "colab": {}
      },
      "source": [
        "#Create an empty list\n",
        "X_test = []"
      ],
      "execution_count": 0,
      "outputs": []
    },
    {
      "cell_type": "code",
      "metadata": {
        "id": "xv8nTqRKgyyP",
        "colab_type": "code",
        "colab": {}
      },
      "source": [
        "#Append teh past 60 days\n",
        "X_test.append(last_60_days_scaled)"
      ],
      "execution_count": 0,
      "outputs": []
    },
    {
      "cell_type": "code",
      "metadata": {
        "id": "DLAlL5J3g1n5",
        "colab_type": "code",
        "colab": {}
      },
      "source": [
        "#Convert the X_test data set to a numpy array\n",
        "X_test = np.array(X_test)"
      ],
      "execution_count": 0,
      "outputs": []
    },
    {
      "cell_type": "code",
      "metadata": {
        "id": "VCzgWCi8g4cH",
        "colab_type": "code",
        "colab": {}
      },
      "source": [
        "#Reshape the data\n",
        "X_test = np.reshape(X_test, (X_test.shape[0], X_test.shape[1], 1))"
      ],
      "execution_count": 0,
      "outputs": []
    },
    {
      "cell_type": "code",
      "metadata": {
        "id": "HHnbLIiDg8KZ",
        "colab_type": "code",
        "colab": {}
      },
      "source": [
        "#Get the predicted scaled price\n",
        "pred_price = model.predict(X_test)"
      ],
      "execution_count": 0,
      "outputs": []
    },
    {
      "cell_type": "code",
      "metadata": {
        "id": "oHMgoDCCg-xS",
        "colab_type": "code",
        "colab": {
          "base_uri": "https://localhost:8080/",
          "height": 34
        },
        "outputId": "c6bdf89e-aed9-46a9-f108-5c45d0a80d37"
      },
      "source": [
        "#undo the scaling \n",
        "pred_price = scaler.inverse_transform(pred_price)\n",
        "print(pred_price)"
      ],
      "execution_count": 58,
      "outputs": [
        {
          "output_type": "stream",
          "text": [
            "[[305.14984]]\n"
          ],
          "name": "stdout"
        }
      ]
    },
    {
      "cell_type": "code",
      "metadata": {
        "id": "5cpen7GRhHFw",
        "colab_type": "code",
        "colab": {}
      },
      "source": [
        ""
      ],
      "execution_count": 0,
      "outputs": []
    }
  ]
}